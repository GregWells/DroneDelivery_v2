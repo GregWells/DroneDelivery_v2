{
 "cells": [
  {
   "cell_type": "code",
   "execution_count": 1,
   "id": "950e2411",
   "metadata": {},
   "outputs": [
    {
     "name": "stdout",
     "output_type": "stream",
     "text": [
      "Executing section 0 of input file busy_day.in: 400 600 30 112993 200\n",
      "gridRows:400 ,gridCols:600\n",
      "Executing section 1 of input file busy_day.in: 400\n",
      "400\n",
      "Executing section 2 of input file busy_day.in: 10\n",
      "warehouse Locations:[(113, 179), (234, 599), (195, 89), (215, 207), (220, 326), (182, 193), (75, 418), (228, 140), (310, 26), (297, 423)]\n",
      "avg_distance btw warehouses:237.74089656575504\n",
      "Executing section 3 of input file busy_day.in: 1250\n",
      "There are 1250 total orders\n",
      "Max Payload:200\n",
      "Total Items available in warehouses:14576\n",
      "Order qty:9368\n",
      "Warehouse 0\n",
      "Warehouse 1\n",
      "Warehouse 2\n",
      "Warehouse 3\n",
      "Warehouse 4\n",
      "Warehouse 5\n",
      "Warehouse 6\n",
      "Warehouse 7\n",
      "Warehouse 8\n",
      "Warehouse 9\n",
      "Items originally in stock: 3513  Intermodal list:5855\n",
      "\n",
      "\n",
      "\n",
      "Warehouse:0 Intermodal list length:512\n",
      "Warehouse:1 Intermodal list length:71\n",
      "Warehouse:2 Intermodal list length:176\n",
      "Warehouse:3 Intermodal list length:1222\n",
      "Warehouse:4 Intermodal list length:1739\n",
      "Warehouse:5 Intermodal list length:450\n",
      "Warehouse:6 Intermodal list length:618\n",
      "Warehouse:7 Intermodal list length:317\n",
      "Warehouse:8 Intermodal list length:36\n",
      "Warehouse:9 Intermodal list length:714\n"
     ]
    },
    {
     "name": "stderr",
     "output_type": "stream",
     "text": [
      "C:\\Users\\greg\\Documents\\GitHub\\DroneDelivery_v2\\code\\droneenv.py:788: VisibleDeprecationWarning: Creating an ndarray from ragged nested sequences (which is a list-or-tuple of lists-or-tuples-or ndarrays with different lengths or shapes) is deprecated. If you meant to do this, you must specify 'dtype=object' when creating the ndarray.\n",
      "  observation = np.array(observation)\n"
     ]
    },
    {
     "ename": "NameError",
     "evalue": "name 'deadline' is not defined",
     "output_type": "error",
     "traceback": [
      "\u001b[1;31m---------------------------------------------------------------------------\u001b[0m",
      "\u001b[1;31mNameError\u001b[0m                                 Traceback (most recent call last)",
      "Cell \u001b[1;32mIn [1], line 55\u001b[0m\n\u001b[0;32m     50\u001b[0m droneenv\u001b[38;5;241m.\u001b[39mCalculate\u001b[38;5;241m.\u001b[39mmaxScores()\n\u001b[0;32m     52\u001b[0m \u001b[38;5;66;03m#createOrdArray()\u001b[39;00m\n\u001b[1;32m---> 55\u001b[0m \u001b[38;5;28mprint\u001b[39m(\u001b[38;5;124m\"\u001b[39m\u001b[38;5;124mTime deadline: \u001b[39m\u001b[38;5;132;01m{}\u001b[39;00m\u001b[38;5;124m\"\u001b[39m\u001b[38;5;241m.\u001b[39mformat(\u001b[43mdeadline\u001b[49m))\n",
      "\u001b[1;31mNameError\u001b[0m: name 'deadline' is not defined"
     ]
    }
   ],
   "source": [
    "global PSEUDO,PSEUDOORDERLIMIT\n",
    "PSEUDO=False\n",
    "PSEUDOORDERLIMIT=82\n",
    "DEBUG=True\n",
    "filename=\"busy_day.in\"\n",
    "\n",
    "import time\n",
    "#Start the timer\n",
    "start_time = time.time()\n",
    "\n",
    "import gym\n",
    "from gym import spaces\n",
    "from gym.spaces import MultiDiscrete\n",
    "\n",
    "import random\n",
    "import math\n",
    "from itertools import combinations\n",
    "import numpy as np\n",
    "import matplotlib.pyplot as plt\n",
    "import scipy as sp\n",
    "import scipy.spatial\n",
    "import scipy.spatial.distance as distance\n",
    "from icecream import ic\n",
    "\n",
    "from operator import itemgetter\n",
    "import droneenv \n",
    "\n",
    "############################## Main ##################################\n",
    "env = droneenv.DroneEnv()\n",
    "#createOrdArray()\n",
    "\n",
    "env.reset()\n",
    "\n",
    "l=droneenv.Log('init')\n",
    "log=list()\n",
    "#calc=Calculate()\n",
    "item=list()\n",
    "\n",
    "locations={}\n",
    "droneenv.Order.reset()\n",
    "droneenv.Item.reset()\n",
    "droneenv.Drone.reset()\n",
    "\n",
    "#consumeInputFile2()\n",
    "\n",
    "#Calc min time to deliver this item of the order\n",
    "droneenv.Calculate.subScores()\n",
    "#Calculate max score for each order. Max score is based onthe minimum time to complete the\n",
    "#  full order (all items in the order must be delivered to score)\n",
    "droneenv.Calculate.maxScores()\n",
    "\n",
    "#createOrdArray()\n",
    "\n",
    "\n",
    "print(\"Time deadline: {}\".format(deadline))\n",
    "    "
   ]
  },
  {
   "cell_type": "code",
   "execution_count": 27,
   "id": "8f931e7b",
   "metadata": {},
   "outputs": [
    {
     "data": {
      "text/plain": [
       "<droneenv.Log at 0x22889f67df0>"
      ]
     },
     "execution_count": 27,
     "metadata": {},
     "output_type": "execute_result"
    }
   ],
   "source": [
    "import droneenv \n",
    "env = droneenv.DroneEnv()\n",
    "droneenv.Log('init')\n",
    "#Data.name"
   ]
  },
  {
   "cell_type": "code",
   "execution_count": 3,
   "id": "be48c971",
   "metadata": {},
   "outputs": [
    {
     "ename": "NameError",
     "evalue": "name 'shelve' is not defined",
     "output_type": "error",
     "traceback": [
      "\u001b[1;31m---------------------------------------------------------------------------\u001b[0m",
      "\u001b[1;31mNameError\u001b[0m                                 Traceback (most recent call last)",
      "Cell \u001b[1;32mIn [3], line 1\u001b[0m\n\u001b[1;32m----> 1\u001b[0m my_shelf \u001b[38;5;241m=\u001b[39m \u001b[43mshelve\u001b[49m\u001b[38;5;241m.\u001b[39mopen(filename)\n",
      "\u001b[1;31mNameError\u001b[0m: name 'shelve' is not defined"
     ]
    }
   ],
   "source": [
    "my_shelf = shelve.open(filename)\n"
   ]
  }
 ],
 "metadata": {
  "kernelspec": {
   "display_name": "Python 3 (ipykernel)",
   "language": "python",
   "name": "python3"
  },
  "language_info": {
   "codemirror_mode": {
    "name": "ipython",
    "version": 3
   },
   "file_extension": ".py",
   "mimetype": "text/x-python",
   "name": "python",
   "nbconvert_exporter": "python",
   "pygments_lexer": "ipython3",
   "version": "3.9.12"
  }
 },
 "nbformat": 4,
 "nbformat_minor": 5
}
